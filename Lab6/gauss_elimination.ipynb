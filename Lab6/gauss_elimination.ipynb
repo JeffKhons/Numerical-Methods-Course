{
 "cells": [
  {
   "cell_type": "code",
   "execution_count": 3,
   "id": "d2e6cd58-4b7f-4b32-baf8-9338f26d81ea",
   "metadata": {},
   "outputs": [
    {
     "name": "stdout",
     "output_type": "stream",
     "text": [
      "Requirement already satisfied: numpy in c:\\users\\user\\anaconda3\\envs\\main\\lib\\site-packages (1.26.4)\n",
      "Note: you may need to restart the kernel to use updated packages.\n"
     ]
    }
   ],
   "source": [
    "pip install numpy"
   ]
  },
  {
   "cell_type": "code",
   "execution_count": 4,
   "id": "1b019aac-c790-423f-9977-12ac3a07fbc5",
   "metadata": {},
   "outputs": [
    {
     "name": "stdout",
     "output_type": "stream",
     "text": [
      "Sample 1\n",
      "upper triangular matrix:\n",
      "[[1. 2. 3.]\n",
      " [3. 4. 5.]\n",
      " [3. 5. 5.]]\n",
      "Augmented matrix:\n",
      "[[ 1.  2.  3.  2.]\n",
      " [ 0. -2. -4. -4.]\n",
      " [ 0.  0. -2.  1.]]\n",
      "x:\n",
      "[-2.5  3.  -0.5]\n",
      "\n",
      "Sample 2\n",
      "upper triangular matrix:\n",
      "[[1. 2. 3. 4.]\n",
      " [5. 4. 3. 2.]\n",
      " [2. 1. 2. 4.]\n",
      " [2. 1. 3. 4.]]\n",
      "Augmented matrix:\n",
      "[[  1.    2.    3.    4.    4. ]\n",
      " [  0.   -6.  -12.  -18.  -12. ]\n",
      " [  0.    0.    2.    5.    3. ]\n",
      " [  0.    0.    0.   -2.5  -0.5]]\n",
      "x:\n",
      "[ 1.4 -0.6  1.   0.2]\n"
     ]
    }
   ],
   "source": [
    "import numpy as np\n",
    "\n",
    "def gauss_elimination(a, y):\n",
    "    n = len(y)\n",
    "    \n",
    "    # Elimination phase\n",
    "    for i in range(n-1):\n",
    "        for j in range(i+1, n):\n",
    "            factor = a[j, i] / a[i, i]\n",
    "            a[j, i:] -= factor * a[i, i:]\n",
    "            y[j] -= factor * y[i]\n",
    "    \n",
    "    # Back substitution\n",
    "    x = np.zeros(n)\n",
    "    x[-1] = y[-1] / a[-1, -1]\n",
    "    for i in range(n-2, -1, -1):\n",
    "        x[i] = (y[i] - np.dot(a[i, i+1:], x[i+1:])) / a[i, i]\n",
    "\n",
    "    # Combine a and y into an augmented matrix\n",
    "    augmented_matrix = np.concatenate((a, y[:, np.newaxis]), axis=1)\n",
    "\n",
    "    return x, augmented_matrix\n",
    "\n",
    "# Sample 1\n",
    "a1 = np.array([[1, 2, 3], [3, 4, 5], [3, 5, 5]], dtype=float)\n",
    "y1 = np.array([2, 2, 5], dtype=float)\n",
    "upper_triangular_matrix_1 = np.copy(a1)\n",
    "x1, augmented_matrix_1 = gauss_elimination(a1, y1)\n",
    "print(\"Sample 1\")\n",
    "print(\"upper triangular matrix:\")\n",
    "print(upper_triangular_matrix_1)\n",
    "print(\"Augmented matrix:\")\n",
    "print(augmented_matrix_1)\n",
    "print(\"x:\")\n",
    "print(x1)\n",
    "\n",
    "# Sample 2\n",
    "a2 = np.array([[1, 2, 3, 4], [5, 4, 3, 2], [2, 1, 2, 4], [2, 1, 3, 4]], dtype=float)\n",
    "y2 = np.array([4, 8, 5, 6], dtype=float)\n",
    "upper_triangular_matrix_2 = np.copy(a2)\n",
    "x2, augmented_matrix_2 = gauss_elimination(a2, y2)\n",
    "print(\"\\nSample 2\")\n",
    "print(\"upper triangular matrix:\")\n",
    "print(upper_triangular_matrix_2)\n",
    "print(\"Augmented matrix:\")\n",
    "print(augmented_matrix_2)\n",
    "print(\"x:\")\n",
    "print(x2)\n"
   ]
  },
  {
   "cell_type": "code",
   "execution_count": null,
   "id": "b98e578d-bacb-4be4-b99f-2d4fba7cdacd",
   "metadata": {},
   "outputs": [],
   "source": []
  }
 ],
 "metadata": {
  "kernelspec": {
   "display_name": "Python 3 (ipykernel)",
   "language": "python",
   "name": "python3"
  },
  "language_info": {
   "codemirror_mode": {
    "name": "ipython",
    "version": 3
   },
   "file_extension": ".py",
   "mimetype": "text/x-python",
   "name": "python",
   "nbconvert_exporter": "python",
   "pygments_lexer": "ipython3",
   "version": "3.11.8"
  }
 },
 "nbformat": 4,
 "nbformat_minor": 5
}
