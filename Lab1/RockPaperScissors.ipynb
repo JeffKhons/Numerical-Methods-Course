{
 "cells": [
  {
   "cell_type": "code",
   "execution_count": 5,
   "id": "2a0224ba-78b9-4f3b-b66d-bb9f3dff512b",
   "metadata": {},
   "outputs": [
    {
     "name": "stdout",
     "output_type": "stream",
     "text": [
      "Welcome to ROCK, PAPER, SCISSORS game!\n"
     ]
    },
    {
     "name": "stdin",
     "output_type": "stream",
     "text": [
      "Enter your move: (r)ock (p)aper, (s)cissors  r\n"
     ]
    },
    {
     "name": "stdout",
     "output_type": "stream",
     "text": [
      "ROCK versus...\n",
      "PAPER\n",
      "You lose!\n"
     ]
    },
    {
     "name": "stdin",
     "output_type": "stream",
     "text": [
      "Enter your move: (r)ock (p)aper, (s)cissors  r\n"
     ]
    },
    {
     "name": "stdout",
     "output_type": "stream",
     "text": [
      "ROCK versus...\n",
      "PAPER\n",
      "You lose!\n"
     ]
    },
    {
     "name": "stdin",
     "output_type": "stream",
     "text": [
      "Enter your move: (r)ock (p)aper, (s)cissors  r\n"
     ]
    },
    {
     "name": "stdout",
     "output_type": "stream",
     "text": [
      "ROCK versus...\n",
      "SCISSORS\n",
      "You win!\n",
      "You have 0 ties and 2 losses before your first win\n"
     ]
    }
   ],
   "source": [
    "import random\n",
    "\n",
    "# determine win or tie or lose\n",
    "\n",
    "def determine_winner(user_move, computer_move):\n",
    "    if user_move == computer_move:\n",
    "        return \"tie\"\n",
    "    elif (user_move == \"r\" and computer_move == \"s\") or \\\n",
    "         (user_move == \"p\" and computer_move == \"r\") or \\\n",
    "         (user_move == \"s\" and computer_move == \"p\"):\n",
    "        return \"win\"\n",
    "    else:\n",
    "        return \"loss\"\n",
    "    \n",
    "# print every results until the game is win\n",
    "\n",
    "def print_results(user_move, computer_move, result, ties, losses):\n",
    "    print(f\"{user_move.upper()} versus...\")\n",
    "    print(computer_move.upper())\n",
    "    if result == \"win\":\n",
    "        print(\"You win!\")\n",
    "        print(f\"You have {ties} ties and {losses} losses before your first win\")\n",
    "    elif result == \"tie\":\n",
    "        print(\"It is a tie!\")\n",
    "    else:\n",
    "        print(\"You lose!\")\n",
    "\n",
    "# play the game\n",
    "\n",
    "def play_rps():\n",
    "    options = {\"r\": \"ROCK\", \"p\": \"PAPER\", \"s\": \"SCISSORS\"}\n",
    "    ties = 0\n",
    "    losses = 0\n",
    "\n",
    "    print(\"Welcome to ROCK, PAPER, SCISSORS game!\")\n",
    "\n",
    "    while True:\n",
    "        user_move_reg = input(\"Enter your move: (r)ock (p)aper, (s)cissors \")\n",
    "        # convert to lower letter\n",
    "        user_move = user_move_reg.lower()\n",
    "        if user_move not in (\"r\", \"p\", \"s\"):\n",
    "            print(\"Invalid input. Please enter 'r', 'p', or 's'.\")\n",
    "            continue\n",
    "\n",
    "        computer_move = random.choice([\"r\", \"p\", \"s\"])\n",
    "        result = determine_winner(user_move, computer_move)\n",
    "\n",
    "        print_results(options[user_move], options[computer_move], result, ties, losses)\n",
    "\n",
    "        if result == \"win\":\n",
    "            break\n",
    "        elif result == \"tie\":\n",
    "            ties += 1\n",
    "        else:\n",
    "            losses += 1\n",
    "\n",
    "play_rps()\n"
   ]
  },
  {
   "cell_type": "code",
   "execution_count": null,
   "id": "735fc90b-c20b-499a-b373-bb50f548602c",
   "metadata": {},
   "outputs": [],
   "source": []
  }
 ],
 "metadata": {
  "kernelspec": {
   "display_name": "Python 3 (ipykernel)",
   "language": "python",
   "name": "python3"
  },
  "language_info": {
   "codemirror_mode": {
    "name": "ipython",
    "version": 3
   },
   "file_extension": ".py",
   "mimetype": "text/x-python",
   "name": "python",
   "nbconvert_exporter": "python",
   "pygments_lexer": "ipython3",
   "version": "3.11.8"
  }
 },
 "nbformat": 4,
 "nbformat_minor": 5
}
