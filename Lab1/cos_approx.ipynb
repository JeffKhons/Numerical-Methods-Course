{
 "cells": [
  {
   "cell_type": "code",
   "execution_count": null,
   "id": "b30d1d50-b424-439c-89b8-e1e20d21383f",
   "metadata": {},
   "outputs": [],
   "source": [
    "import math\n",
    "\n",
    "def cosine_approximation(x, n=24):\n",
    "    result = 1\n",
    "    power = 2\n",
    "    sign = -1\n",
    "    factorial = 2\n",
    "    \n",
    "    while power <= n:\n",
    "        result += sign * (x ** power) / math.factorial(power)\n",
    "        power += 2\n",
    "        sign *= -1\n",
    "        factorial *= power * (power - 1)\n",
    "    \n",
    "    return result\n",
    "\n",
    "# input value\n",
    "x = float(input(\"Enter x = \"))\n",
    "value = cosine_approximation(x)\n",
    "print(f\"cos({x}) approximation is {value}\")"
   ]
  },
  {
   "cell_type": "code",
   "execution_count": null,
   "id": "5e355d33-1773-42d7-ae33-73bb26b37d77",
   "metadata": {},
   "outputs": [],
   "source": []
  }
 ],
 "metadata": {
  "kernelspec": {
   "display_name": "Python 3 (ipykernel)",
   "language": "python",
   "name": "python3"
  },
  "language_info": {
   "codemirror_mode": {
    "name": "ipython",
    "version": 3
   },
   "file_extension": ".py",
   "mimetype": "text/x-python",
   "name": "python",
   "nbconvert_exporter": "python",
   "pygments_lexer": "ipython3",
   "version": "3.11.8"
  }
 },
 "nbformat": 4,
 "nbformat_minor": 5
}
