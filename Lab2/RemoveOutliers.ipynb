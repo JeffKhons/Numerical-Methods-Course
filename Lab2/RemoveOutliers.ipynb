{
 "cells": [
  {
   "cell_type": "code",
   "execution_count": 7,
   "id": "30452097-b75e-46e5-8e33-a76b4314566a",
   "metadata": {
    "tags": []
   },
   "outputs": [
    {
     "name": "stdin",
     "output_type": "stream",
     "text": [
      "Enter the number of smallest and largest values to remove:  2\n",
      "Enter a value (q or Q to quit):  77\n",
      "Enter a value (q or Q to quit):  66\n",
      "Enter a value (q or Q to quit):  -8\n",
      "Enter a value (q or Q to quit):  -7\n",
      "Enter a value (q or Q to quit):  -12\n",
      "Enter a value (q or Q to quit):  4\n",
      "Enter a value (q or Q to quit):  1\n",
      "Enter a value (q or Q to quit):  6\n",
      "Enter a value (q or Q to quit):  q\n"
     ]
    },
    {
     "name": "stdout",
     "output_type": "stream",
     "text": [
      "The original data: [77, 66, -8, -7, -12, 4, 1, 6]\n",
      "The data with the outliers removed: [-7, 1, 4, 6]\n",
      "The outliers: [66, 77, -12, -8]\n"
     ]
    }
   ],
   "source": [
    "def remove_outliers(values, n):\n",
    "    \n",
    "    # 將 lsit 排序，由小到大\n",
    "    sorted_values = sorted(values)\n",
    "    \n",
    "    # 刪除最大的 n 個值\n",
    "    outliers = sorted_values[-n:]\n",
    "    del sorted_values[-n:]\n",
    "    \n",
    "    # 刪除最小的 n 個值\n",
    "    outliers.extend(sorted_values[:n])\n",
    "    del sorted_values[:n]\n",
    "    \n",
    "    # 回傳 data\n",
    "    return sorted_values, outliers\n",
    "\n",
    "def main():\n",
    "    data = []\n",
    "    \n",
    "    # 輸入想要刪去的最大值與最小值數量\n",
    "    n = int(input(\"Enter the number of smallest and largest values to remove: \"))\n",
    "    \n",
    "    # 輸入 'q' 或 'Q' 即可離開\n",
    "    while True:\n",
    "        value = input(\"Enter a value (q or Q to quit): \")\n",
    "        if value.lower() == 'q':\n",
    "            break\n",
    "        data.append(int(value))\n",
    "    \n",
    "    # remove_outliers 函數移除最大和最小值\n",
    "    new_data, outliers = remove_outliers(data, n)\n",
    "    \n",
    "    # 輸出\n",
    "    print(\"The original data:\", data)\n",
    "    print(\"The data with the outliers removed:\", new_data)\n",
    "    print(\"The outliers:\", outliers)\n",
    "\n",
    "main()\n"
   ]
  },
  {
   "cell_type": "code",
   "execution_count": null,
   "id": "b6b57f11-14d5-48aa-a261-ec0272ae7103",
   "metadata": {},
   "outputs": [],
   "source": []
  }
 ],
 "metadata": {
  "kernelspec": {
   "display_name": "Python 3 (ipykernel)",
   "language": "python",
   "name": "python3"
  },
  "language_info": {
   "codemirror_mode": {
    "name": "ipython",
    "version": 3
   },
   "file_extension": ".py",
   "mimetype": "text/x-python",
   "name": "python",
   "nbconvert_exporter": "python",
   "pygments_lexer": "ipython3",
   "version": "3.11.8"
  }
 },
 "nbformat": 4,
 "nbformat_minor": 5
}
