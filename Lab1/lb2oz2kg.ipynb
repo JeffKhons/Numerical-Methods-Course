{
 "cells": [
  {
   "cell_type": "code",
   "execution_count": 7,
   "id": "906052fe-6e31-4e2d-bb5b-5fef156e4ff3",
   "metadata": {},
   "outputs": [
    {
     "name": "stdin",
     "output_type": "stream",
     "text": [
      "Enter weight(lb):  15\n"
     ]
    },
    {
     "name": "stdout",
     "output_type": "stream",
     "text": [
      "lb , oz , kg\n",
      "15.00, 240.00, 6.80388\n"
     ]
    }
   ],
   "source": [
    "# Function to convert pounds to ounces and kilograms\n",
    "def lb_to_oz_kg(lb):\n",
    "    oz = lb * 16\n",
    "    kg = lb * 0.453592\n",
    "    return oz, kg\n",
    "\n",
    "# Get user input \n",
    "lb = float(input(\"Enter weight(lb): \"))\n",
    "\n",
    "# Convert to oz and kg\n",
    "oz, kg = lb_to_oz_kg(lb)\n",
    "\n",
    "print(\"lb , oz , kg\")\n",
    "print(\"{:.2f}, {:.2f}, {:.5f}\".format(lb, oz, kg))\n"
   ]
  },
  {
   "cell_type": "code",
   "execution_count": null,
   "id": "eb5d14d2-09b2-4961-94b7-871c560681d5",
   "metadata": {},
   "outputs": [],
   "source": []
  }
 ],
 "metadata": {
  "kernelspec": {
   "display_name": "Python 3 (ipykernel)",
   "language": "python",
   "name": "python3"
  },
  "language_info": {
   "codemirror_mode": {
    "name": "ipython",
    "version": 3
   },
   "file_extension": ".py",
   "mimetype": "text/x-python",
   "name": "python",
   "nbconvert_exporter": "python",
   "pygments_lexer": "ipython3",
   "version": "3.11.8"
  }
 },
 "nbformat": 4,
 "nbformat_minor": 5
}
