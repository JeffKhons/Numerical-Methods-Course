{
 "cells": [
  {
   "cell_type": "code",
   "execution_count": 1,
   "id": "IyRa87YZWyKm",
   "metadata": {
    "executionInfo": {
     "elapsed": 4,
     "status": "ok",
     "timestamp": 1678501932164,
     "user": {
      "displayName": "吳蕙瑜 HUI YU WU N96114467",
      "userId": "11903892810699653447"
     },
     "user_tz": -480
    },
    "id": "IyRa87YZWyKm"
   },
   "outputs": [
    {
     "name": "stdout",
     "output_type": "stream",
     "text": [
      "Requirement already satisfied: numpy in c:\\users\\user\\anaconda3\\envs\\main\\lib\\site-packages (1.26.4)\n",
      "Note: you may need to restart the kernel to use updated packages.\n"
     ]
    }
   ],
   "source": [
    "pip install numpy"
   ]
  },
  {
   "cell_type": "code",
   "execution_count": 2,
   "id": "2d7b2288-ab8e-483c-b476-3345198d435b",
   "metadata": {},
   "outputs": [
    {
     "name": "stdout",
     "output_type": "stream",
     "text": [
      "Requirement already satisfied: matplotlib in c:\\users\\user\\anaconda3\\envs\\main\\lib\\site-packages (3.8.3)\n",
      "Requirement already satisfied: contourpy>=1.0.1 in c:\\users\\user\\anaconda3\\envs\\main\\lib\\site-packages (from matplotlib) (1.2.0)\n",
      "Requirement already satisfied: cycler>=0.10 in c:\\users\\user\\anaconda3\\envs\\main\\lib\\site-packages (from matplotlib) (0.12.1)\n",
      "Requirement already satisfied: fonttools>=4.22.0 in c:\\users\\user\\anaconda3\\envs\\main\\lib\\site-packages (from matplotlib) (4.50.0)\n",
      "Requirement already satisfied: kiwisolver>=1.3.1 in c:\\users\\user\\anaconda3\\envs\\main\\lib\\site-packages (from matplotlib) (1.4.5)\n",
      "Requirement already satisfied: numpy<2,>=1.21 in c:\\users\\user\\anaconda3\\envs\\main\\lib\\site-packages (from matplotlib) (1.26.4)\n",
      "Requirement already satisfied: packaging>=20.0 in c:\\users\\user\\appdata\\roaming\\python\\python311\\site-packages (from matplotlib) (23.1)\n",
      "Requirement already satisfied: pillow>=8 in c:\\users\\user\\anaconda3\\envs\\main\\lib\\site-packages (from matplotlib) (10.3.0)\n",
      "Requirement already satisfied: pyparsing>=2.3.1 in c:\\users\\user\\anaconda3\\envs\\main\\lib\\site-packages (from matplotlib) (3.1.2)\n",
      "Requirement already satisfied: python-dateutil>=2.7 in c:\\users\\user\\appdata\\roaming\\python\\python311\\site-packages (from matplotlib) (2.8.2)\n",
      "Requirement already satisfied: six>=1.5 in c:\\users\\user\\appdata\\roaming\\python\\python311\\site-packages (from python-dateutil>=2.7->matplotlib) (1.16.0)\n",
      "Note: you may need to restart the kernel to use updated packages.\n"
     ]
    }
   ],
   "source": [
    "pip install matplotlib"
   ]
  },
  {
   "cell_type": "code",
   "execution_count": 3,
   "id": "be060367-cb18-445b-bb2d-2f033f5b2a8f",
   "metadata": {},
   "outputs": [],
   "source": [
    "# define parameter for plt\n",
    "linewidths = [0.5, 1.0, 2.0, 4.0]\n",
    "linestyles = ['-', '--', '-.', ':']\n",
    "markers = ['+', 'o', '*', 's', '.', '1', '2', '3', '4']\n",
    "markersizecolors = [(4, \"white\"), (8, \"red\"), (12, \"yellow\"), (16, \"lightgreen\")] #tuple in list"
   ]
  },
  {
   "cell_type": "code",
   "execution_count": 4,
   "id": "e5998414-129e-41d3-9d72-a60b2836e589",
   "metadata": {
    "colab": {
     "base_uri": "https://localhost:8080/",
     "height": 227
    },
    "executionInfo": {
     "elapsed": 1510,
     "status": "ok",
     "timestamp": 1678501934141,
     "user": {
      "displayName": "吳蕙瑜 HUI YU WU N96114467",
      "userId": "11903892810699653447"
     },
     "user_tz": -480
    },
    "id": "b8RWvUtqWyKq",
    "outputId": "03629335-036f-4fc6-e277-b639575ae0c2"
   },
   "outputs": [
    {
     "data": {
      "image/png": "[encoded data removed]",
      "text/plain": [
       "<Figure size 1600x300 with 4 Axes>"
      ]
     },
     "metadata": {},
     "output_type": "display_data"
    }
   ],
   "source": [
    "import numpy as np\n",
    "import matplotlib.pyplot as plt\n",
    "\n",
    "x = np.linspace(-5, 5, 5)\n",
    "y = np.ones_like(x)\n",
    "\n",
    "def axes_settings(fig, ax, title, ymax):\n",
    "    ax.set_xticks([])\n",
    "    ax.set_yticks([])\n",
    "    ax.set_ylim(0, ymax+1)\n",
    "    ax.set_title(title)\n",
    "\n",
    "fig, axes = plt.subplots(1, 4, figsize=(16,3))\n",
    "\n",
    "linewidths = [0.5, 1.0, 2.0, 3.0]\n",
    "linestyles = ['-', '--', '-.', ':']\n",
    "markers = ['+', 'o', '*', 's', '.', '1', '2', '3', '4']\n",
    "markersizecolors = [(4, \"white\"), (8, \"red\"), (12, \"yellow\"), (16,\"lightgreen\")]\n",
    "\n",
    "# Line width\n",
    "for n, linewidth in enumerate(linewidths):\n",
    "    axes[0].plot(x, y + n, color=\"blue\", linewidth=linewidth)\n",
    "axes_settings(fig, axes[0], \"linewidth\", len(linewidths))\n",
    "\n",
    "# Line style\n",
    "for n, linestyle in enumerate(linestyles):\n",
    "    axes[1].plot(x, y + n, color=\"blue\", linestyle=linestyle)\n",
    "axes_settings(fig, axes[1], \"linestyle\", len(linestyles))\n",
    "\n",
    "# Marker\n",
    "for n, marker in enumerate(markers):\n",
    "    axes[2].plot(x, y + n, color=\"blue\", marker=marker, linestyle='')\n",
    "axes_settings(fig, axes[2], \"marker\", len(markers))\n",
    "\n",
    "# Marker size/color\n",
    "for n, (size, color) in enumerate(markersizecolors):\n",
    "    axes[3].plot(x, y + n, color=color, marker='o', markersize=size, linestyle='', markeredgecolor='blue')\n",
    "axes_settings(fig, axes[3], \"markersize/color\", len(markersizecolors))\n",
    "\n",
    "plt.tight_layout()\n",
    "plt.show()\n"
   ]
  },
  {
   "cell_type": "code",
   "execution_count": null,
   "id": "2L_rLBAkgr5d",
   "metadata": {
    "id": "2L_rLBAkgr5d"
   },
   "outputs": [],
   "source": []
  }
 ],
 "metadata": {
  "colab": {
   "provenance": []
  },
  "kernelspec": {
   "display_name": "Python 3 (ipykernel)",
   "language": "python",
   "name": "python3"
  },
  "language_info": {
   "codemirror_mode": {
    "name": "ipython",
    "version": 3
   },
   "file_extension": ".py",
   "mimetype": "text/x-python",
   "name": "python",
   "nbconvert_exporter": "python",
   "pygments_lexer": "ipython3",
   "version": "3.11.8"
  }
 },
 "nbformat": 4,
 "nbformat_minor": 5
}
