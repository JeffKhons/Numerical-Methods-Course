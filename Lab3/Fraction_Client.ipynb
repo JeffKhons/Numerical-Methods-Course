{
 "cells": [
  {
   "cell_type": "code",
   "execution_count": 1,
   "id": "44a9fed0",
   "metadata": {
    "tags": []
   },
   "outputs": [
    {
     "ename": "ModuleNotFoundError",
     "evalue": "No module named 'fraction'",
     "output_type": "error",
     "traceback": [
      "\u001b[1;31m---------------------------------------------------------------------------\u001b[0m",
      "\u001b[1;31mModuleNotFoundError\u001b[0m                       Traceback (most recent call last)",
      "Cell \u001b[1;32mIn[1], line 1\u001b[0m\n\u001b[1;32m----> 1\u001b[0m \u001b[38;5;28;01mfrom\u001b[39;00m \u001b[38;5;21;01mfraction\u001b[39;00m \u001b[38;5;28;01mimport\u001b[39;00m Fraction\n",
      "\u001b[1;31mModuleNotFoundError\u001b[0m: No module named 'fraction'"
     ]
    }
   ],
   "source": [
    "from fraction import Fraction"
   ]
  },
  {
   "cell_type": "code",
   "execution_count": null,
   "id": "eec957fa",
   "metadata": {
    "tags": []
   },
   "outputs": [],
   "source": [
    "x = Fraction(1,6)\n",
    "y = Fraction(2,6)\n",
    "print(x+y)\n",
    "print(x == y)\n"
   ]
  },
  {
   "cell_type": "code",
   "execution_count": null,
   "id": "81d090f8",
   "metadata": {
    "tags": []
   },
   "outputs": [],
   "source": [
    "print(x != y)"
   ]
  },
  {
   "cell_type": "code",
   "execution_count": null,
   "id": "6b23bf53",
   "metadata": {
    "tags": []
   },
   "outputs": [],
   "source": [
    "print(x-y)"
   ]
  },
  {
   "cell_type": "code",
   "execution_count": null,
   "id": "44180cba",
   "metadata": {
    "tags": []
   },
   "outputs": [],
   "source": [
    "print(x*y)"
   ]
  },
  {
   "cell_type": "code",
   "execution_count": null,
   "id": "073ef33f",
   "metadata": {
    "tags": []
   },
   "outputs": [],
   "source": [
    "print(x/y)"
   ]
  },
  {
   "cell_type": "code",
   "execution_count": null,
   "id": "ce9fb14a",
   "metadata": {
    "tags": []
   },
   "outputs": [],
   "source": [
    "Fraction(4,6)"
   ]
  },
  {
   "cell_type": "code",
   "execution_count": null,
   "id": "d183e347",
   "metadata": {
    "tags": []
   },
   "outputs": [],
   "source": [
    "print(Fraction(2,4))"
   ]
  },
  {
   "cell_type": "code",
   "execution_count": null,
   "id": "6090e451-f18f-431d-ae3f-d0f68f33edc2",
   "metadata": {},
   "outputs": [],
   "source": []
  }
 ],
 "metadata": {
  "kernelspec": {
   "display_name": "Python 3 (ipykernel)",
   "language": "python",
   "name": "python3"
  },
  "language_info": {
   "codemirror_mode": {
    "name": "ipython",
    "version": 3
   },
   "file_extension": ".py",
   "mimetype": "text/x-python",
   "name": "python",
   "nbconvert_exporter": "python",
   "pygments_lexer": "ipython3",
   "version": "3.11.8"
  }
 },
 "nbformat": 4,
 "nbformat_minor": 5
}
