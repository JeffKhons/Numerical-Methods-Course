{
 "cells": [
  {
   "cell_type": "code",
   "execution_count": 12,
   "metadata": {
    "tags": []
   },
   "outputs": [
    {
     "name": "stdout",
     "output_type": "stream",
     "text": [
      "Requirement already satisfied: flet in c:\\users\\user\\anaconda3\\envs\\main\\lib\\site-packages (0.21.2)\n",
      "Requirement already satisfied: cookiecutter<3.0.0,>=2.6.0 in c:\\users\\user\\anaconda3\\envs\\main\\lib\\site-packages (from flet) (2.6.0)\n",
      "Requirement already satisfied: fastapi<1,>=0 in c:\\users\\user\\anaconda3\\envs\\main\\lib\\site-packages (from flet) (0.110.0)\n",
      "Requirement already satisfied: flet-runtime==0.21.2 in c:\\users\\user\\anaconda3\\envs\\main\\lib\\site-packages (from flet) (0.21.2)\n",
      "Requirement already satisfied: packaging<24.0,>=23.1 in c:\\users\\user\\appdata\\roaming\\python\\python311\\site-packages (from flet) (23.1)\n",
      "Requirement already satisfied: qrcode<8.0.0,>=7.4.2 in c:\\users\\user\\anaconda3\\envs\\main\\lib\\site-packages (from flet) (7.4.2)\n",
      "Requirement already satisfied: uvicorn<1,>=0 in c:\\users\\user\\anaconda3\\envs\\main\\lib\\site-packages (from uvicorn[standard]<1,>=0->flet) (0.29.0)\n",
      "Requirement already satisfied: watchdog<5.0.0,>=4.0.0 in c:\\users\\user\\anaconda3\\envs\\main\\lib\\site-packages (from flet) (4.0.0)\n",
      "Requirement already satisfied: flet-core==0.21.2 in c:\\users\\user\\anaconda3\\envs\\main\\lib\\site-packages (from flet-runtime==0.21.2->flet) (0.21.2)\n",
      "Requirement already satisfied: httpx<1,>=0 in c:\\users\\user\\anaconda3\\envs\\main\\lib\\site-packages (from flet-runtime==0.21.2->flet) (0.27.0)\n",
      "Requirement already satisfied: oauthlib<4.0.0,>=3.2.2 in c:\\users\\user\\anaconda3\\envs\\main\\lib\\site-packages (from flet-runtime==0.21.2->flet) (3.2.2)\n",
      "Requirement already satisfied: repath<0.10.0,>=0.9.0 in c:\\users\\user\\anaconda3\\envs\\main\\lib\\site-packages (from flet-core==0.21.2->flet-runtime==0.21.2->flet) (0.9.0)\n",
      "Requirement already satisfied: binaryornot>=0.4.4 in c:\\users\\user\\anaconda3\\envs\\main\\lib\\site-packages (from cookiecutter<3.0.0,>=2.6.0->flet) (0.4.4)\n",
      "Requirement already satisfied: Jinja2<4.0.0,>=2.7 in c:\\users\\user\\anaconda3\\envs\\main\\lib\\site-packages (from cookiecutter<3.0.0,>=2.6.0->flet) (3.1.3)\n",
      "Requirement already satisfied: click<9.0.0,>=7.0 in c:\\users\\user\\anaconda3\\envs\\main\\lib\\site-packages (from cookiecutter<3.0.0,>=2.6.0->flet) (8.1.7)\n",
      "Requirement already satisfied: pyyaml>=5.3.1 in c:\\users\\user\\anaconda3\\envs\\main\\lib\\site-packages (from cookiecutter<3.0.0,>=2.6.0->flet) (6.0.1)\n",
      "Requirement already satisfied: python-slugify>=4.0.0 in c:\\users\\user\\anaconda3\\envs\\main\\lib\\site-packages (from cookiecutter<3.0.0,>=2.6.0->flet) (8.0.4)\n",
      "Requirement already satisfied: requests>=2.23.0 in c:\\users\\user\\anaconda3\\envs\\main\\lib\\site-packages (from cookiecutter<3.0.0,>=2.6.0->flet) (2.31.0)\n",
      "Requirement already satisfied: arrow in c:\\users\\user\\anaconda3\\envs\\main\\lib\\site-packages (from cookiecutter<3.0.0,>=2.6.0->flet) (1.3.0)\n",
      "Requirement already satisfied: rich in c:\\users\\user\\anaconda3\\envs\\main\\lib\\site-packages (from cookiecutter<3.0.0,>=2.6.0->flet) (13.7.1)\n",
      "Requirement already satisfied: pydantic!=1.8,!=1.8.1,!=2.0.0,!=2.0.1,!=2.1.0,<3.0.0,>=1.7.4 in c:\\users\\user\\anaconda3\\envs\\main\\lib\\site-packages (from fastapi<1,>=0->flet) (2.6.4)\n",
      "Requirement already satisfied: starlette<0.37.0,>=0.36.3 in c:\\users\\user\\anaconda3\\envs\\main\\lib\\site-packages (from fastapi<1,>=0->flet) (0.36.3)\n",
      "Requirement already satisfied: typing-extensions>=4.8.0 in c:\\users\\user\\anaconda3\\envs\\main\\lib\\site-packages (from fastapi<1,>=0->flet) (4.9.0)\n",
      "Requirement already satisfied: pypng in c:\\users\\user\\anaconda3\\envs\\main\\lib\\site-packages (from qrcode<8.0.0,>=7.4.2->flet) (0.20220715.0)\n",
      "Requirement already satisfied: colorama in c:\\users\\user\\appdata\\roaming\\python\\python311\\site-packages (from qrcode<8.0.0,>=7.4.2->flet) (0.4.6)\n",
      "Requirement already satisfied: h11>=0.8 in c:\\users\\user\\anaconda3\\envs\\main\\lib\\site-packages (from uvicorn<1,>=0->uvicorn[standard]<1,>=0->flet) (0.14.0)\n",
      "Requirement already satisfied: httptools>=0.5.0 in c:\\users\\user\\anaconda3\\envs\\main\\lib\\site-packages (from uvicorn[standard]<1,>=0->flet) (0.6.1)\n",
      "Requirement already satisfied: python-dotenv>=0.13 in c:\\users\\user\\anaconda3\\envs\\main\\lib\\site-packages (from uvicorn[standard]<1,>=0->flet) (1.0.1)\n",
      "Requirement already satisfied: watchfiles>=0.13 in c:\\users\\user\\anaconda3\\envs\\main\\lib\\site-packages (from uvicorn[standard]<1,>=0->flet) (0.21.0)\n",
      "Requirement already satisfied: websockets>=10.4 in c:\\users\\user\\anaconda3\\envs\\main\\lib\\site-packages (from uvicorn[standard]<1,>=0->flet) (12.0)\n",
      "Requirement already satisfied: chardet>=3.0.2 in c:\\users\\user\\anaconda3\\envs\\main\\lib\\site-packages (from binaryornot>=0.4.4->cookiecutter<3.0.0,>=2.6.0->flet) (5.2.0)\n",
      "Requirement already satisfied: anyio in c:\\users\\user\\anaconda3\\envs\\main\\lib\\site-packages (from httpx<1,>=0->flet-runtime==0.21.2->flet) (4.2.0)\n",
      "Requirement already satisfied: certifi in c:\\users\\user\\anaconda3\\envs\\main\\lib\\site-packages (from httpx<1,>=0->flet-runtime==0.21.2->flet) (2024.2.2)\n",
      "Requirement already satisfied: httpcore==1.* in c:\\users\\user\\anaconda3\\envs\\main\\lib\\site-packages (from httpx<1,>=0->flet-runtime==0.21.2->flet) (1.0.4)\n",
      "Requirement already satisfied: idna in c:\\users\\user\\anaconda3\\envs\\main\\lib\\site-packages (from httpx<1,>=0->flet-runtime==0.21.2->flet) (3.4)\n",
      "Requirement already satisfied: sniffio in c:\\users\\user\\anaconda3\\envs\\main\\lib\\site-packages (from httpx<1,>=0->flet-runtime==0.21.2->flet) (1.3.0)\n",
      "Requirement already satisfied: MarkupSafe>=2.0 in c:\\users\\user\\anaconda3\\envs\\main\\lib\\site-packages (from Jinja2<4.0.0,>=2.7->cookiecutter<3.0.0,>=2.6.0->flet) (2.1.3)\n",
      "Requirement already satisfied: annotated-types>=0.4.0 in c:\\users\\user\\anaconda3\\envs\\main\\lib\\site-packages (from pydantic!=1.8,!=1.8.1,!=2.0.0,!=2.0.1,!=2.1.0,<3.0.0,>=1.7.4->fastapi<1,>=0->flet) (0.6.0)\n",
      "Requirement already satisfied: pydantic-core==2.16.3 in c:\\users\\user\\anaconda3\\envs\\main\\lib\\site-packages (from pydantic!=1.8,!=1.8.1,!=2.0.0,!=2.0.1,!=2.1.0,<3.0.0,>=1.7.4->fastapi<1,>=0->flet) (2.16.3)\n",
      "Requirement already satisfied: text-unidecode>=1.3 in c:\\users\\user\\anaconda3\\envs\\main\\lib\\site-packages (from python-slugify>=4.0.0->cookiecutter<3.0.0,>=2.6.0->flet) (1.3)\n",
      "Requirement already satisfied: charset-normalizer<4,>=2 in c:\\users\\user\\anaconda3\\envs\\main\\lib\\site-packages (from requests>=2.23.0->cookiecutter<3.0.0,>=2.6.0->flet) (2.0.4)\n",
      "Requirement already satisfied: urllib3<3,>=1.21.1 in c:\\users\\user\\anaconda3\\envs\\main\\lib\\site-packages (from requests>=2.23.0->cookiecutter<3.0.0,>=2.6.0->flet) (2.1.0)\n",
      "Requirement already satisfied: python-dateutil>=2.7.0 in c:\\users\\user\\appdata\\roaming\\python\\python311\\site-packages (from arrow->cookiecutter<3.0.0,>=2.6.0->flet) (2.8.2)\n",
      "Requirement already satisfied: types-python-dateutil>=2.8.10 in c:\\users\\user\\anaconda3\\envs\\main\\lib\\site-packages (from arrow->cookiecutter<3.0.0,>=2.6.0->flet) (2.9.0.20240316)\n",
      "Requirement already satisfied: markdown-it-py>=2.2.0 in c:\\users\\user\\anaconda3\\envs\\main\\lib\\site-packages (from rich->cookiecutter<3.0.0,>=2.6.0->flet) (3.0.0)\n",
      "Requirement already satisfied: pygments<3.0.0,>=2.13.0 in c:\\users\\user\\appdata\\roaming\\python\\python311\\site-packages (from rich->cookiecutter<3.0.0,>=2.6.0->flet) (2.15.1)\n",
      "Requirement already satisfied: mdurl~=0.1 in c:\\users\\user\\anaconda3\\envs\\main\\lib\\site-packages (from markdown-it-py>=2.2.0->rich->cookiecutter<3.0.0,>=2.6.0->flet) (0.1.2)\n",
      "Requirement already satisfied: six>=1.5 in c:\\users\\user\\appdata\\roaming\\python\\python311\\site-packages (from python-dateutil>=2.7.0->arrow->cookiecutter<3.0.0,>=2.6.0->flet) (1.16.0)\n",
      "Note: you may need to restart the kernel to use updated packages.\n"
     ]
    }
   ],
   "source": [
    "pip install flet --upgrade"
   ]
  },
  {
   "cell_type": "code",
   "execution_count": 7,
   "metadata": {
    "tags": []
   },
   "outputs": [],
   "source": [
    "import flet as ft"
   ]
  },
  {
   "cell_type": "code",
   "execution_count": 8,
   "metadata": {
    "tags": []
   },
   "outputs": [],
   "source": [
    "def remove_outliers(num_remove, data_original):\n",
    "    removed_data = []\n",
    "    data = []\n",
    "    \n",
    "    data = data_original.copy()\n",
    "    for i in range(num_remove*2):\n",
    "        if i < num_remove:\n",
    "            max_value = max(data)\n",
    "            removed_data.append(max_value)\n",
    "            data.remove(max_value)\n",
    "        else:\n",
    "            min_value = min(data)\n",
    "            removed_data.append(min_value)\n",
    "            data.remove(min_value)\n",
    "\n",
    "    return sorted(data), sorted(removed_data)\n"
   ]
  },
  {
   "cell_type": "code",
   "execution_count": 13,
   "metadata": {
    "tags": []
   },
   "outputs": [
    {
     "ename": "RuntimeError",
     "evalue": "asyncio.run() cannot be called from a running event loop",
     "output_type": "error",
     "traceback": [
      "\u001b[1;31m---------------------------------------------------------------------------\u001b[0m",
      "\u001b[1;31mRuntimeError\u001b[0m                              Traceback (most recent call last)",
      "Cell \u001b[1;32mIn[13], line 55\u001b[0m\n\u001b[0;32m     43\u001b[0m     \u001b[38;5;66;03m# ------將物件進行排版------\u001b[39;00m\n\u001b[0;32m     44\u001b[0m     page\u001b[38;5;241m.\u001b[39madd(\n\u001b[0;32m     45\u001b[0m             remove_textfield,\n\u001b[0;32m     46\u001b[0m             number_textfield,\n\u001b[1;32m   (...)\u001b[0m\n\u001b[0;32m     52\u001b[0m             removed_data_text\n\u001b[0;32m     53\u001b[0m             )\n\u001b[1;32m---> 55\u001b[0m \u001b[43mft\u001b[49m\u001b[38;5;241;43m.\u001b[39;49m\u001b[43mapp\u001b[49m\u001b[43m(\u001b[49m\u001b[43mport\u001b[49m\u001b[38;5;241;43m=\u001b[39;49m\u001b[38;5;241;43m8080\u001b[39;49m\u001b[43m,\u001b[49m\u001b[43mtarget\u001b[49m\u001b[38;5;241;43m=\u001b[39;49m\u001b[43mmain\u001b[49m\u001b[43m)\u001b[49m\n",
      "File \u001b[1;32m~\\anaconda3\\envs\\main\\Lib\\site-packages\\flet_runtime\\app.py:70\u001b[0m, in \u001b[0;36mapp\u001b[1;34m(target, name, host, port, view, assets_dir, upload_dir, web_renderer, use_color_emoji, route_url_strategy, export_asgi_app)\u001b[0m\n\u001b[0;32m     58\u001b[0m     \u001b[38;5;28;01mfrom\u001b[39;00m \u001b[38;5;21;01mflet\u001b[39;00m\u001b[38;5;21;01m.\u001b[39;00m\u001b[38;5;21;01mfastapi\u001b[39;00m\u001b[38;5;21;01m.\u001b[39;00m\u001b[38;5;21;01mserve_fastapi_web_app\u001b[39;00m \u001b[38;5;28;01mimport\u001b[39;00m get_fastapi_web_app\n\u001b[0;32m     60\u001b[0m     \u001b[38;5;28;01mreturn\u001b[39;00m get_fastapi_web_app(\n\u001b[0;32m     61\u001b[0m         session_handler\u001b[38;5;241m=\u001b[39mtarget,\n\u001b[0;32m     62\u001b[0m         page_name\u001b[38;5;241m=\u001b[39m__get_page_name(name),\n\u001b[1;32m   (...)\u001b[0m\n\u001b[0;32m     67\u001b[0m         route_url_strategy\u001b[38;5;241m=\u001b[39mroute_url_strategy,\n\u001b[0;32m     68\u001b[0m     )\n\u001b[1;32m---> 70\u001b[0m \u001b[38;5;28;01mreturn\u001b[39;00m \u001b[43masyncio\u001b[49m\u001b[38;5;241;43m.\u001b[39;49m\u001b[43mrun\u001b[49m\u001b[43m(\u001b[49m\n\u001b[0;32m     71\u001b[0m \u001b[43m    \u001b[49m\u001b[43mapp_async\u001b[49m\u001b[43m(\u001b[49m\n\u001b[0;32m     72\u001b[0m \u001b[43m        \u001b[49m\u001b[43mtarget\u001b[49m\u001b[38;5;241;43m=\u001b[39;49m\u001b[43mtarget\u001b[49m\u001b[43m,\u001b[49m\n\u001b[0;32m     73\u001b[0m \u001b[43m        \u001b[49m\u001b[43mname\u001b[49m\u001b[38;5;241;43m=\u001b[39;49m\u001b[43mname\u001b[49m\u001b[43m,\u001b[49m\n\u001b[0;32m     74\u001b[0m \u001b[43m        \u001b[49m\u001b[43mhost\u001b[49m\u001b[38;5;241;43m=\u001b[39;49m\u001b[43mhost\u001b[49m\u001b[43m,\u001b[49m\n\u001b[0;32m     75\u001b[0m \u001b[43m        \u001b[49m\u001b[43mport\u001b[49m\u001b[38;5;241;43m=\u001b[39;49m\u001b[43mport\u001b[49m\u001b[43m,\u001b[49m\n\u001b[0;32m     76\u001b[0m \u001b[43m        \u001b[49m\u001b[43mview\u001b[49m\u001b[38;5;241;43m=\u001b[39;49m\u001b[43mview\u001b[49m\u001b[43m,\u001b[49m\n\u001b[0;32m     77\u001b[0m \u001b[43m        \u001b[49m\u001b[43massets_dir\u001b[49m\u001b[38;5;241;43m=\u001b[39;49m\u001b[43massets_dir\u001b[49m\u001b[43m,\u001b[49m\n\u001b[0;32m     78\u001b[0m \u001b[43m        \u001b[49m\u001b[43mupload_dir\u001b[49m\u001b[38;5;241;43m=\u001b[39;49m\u001b[43mupload_dir\u001b[49m\u001b[43m,\u001b[49m\n\u001b[0;32m     79\u001b[0m \u001b[43m        \u001b[49m\u001b[43mweb_renderer\u001b[49m\u001b[38;5;241;43m=\u001b[39;49m\u001b[43mweb_renderer\u001b[49m\u001b[43m,\u001b[49m\n\u001b[0;32m     80\u001b[0m \u001b[43m        \u001b[49m\u001b[43muse_color_emoji\u001b[49m\u001b[38;5;241;43m=\u001b[39;49m\u001b[43muse_color_emoji\u001b[49m\u001b[43m,\u001b[49m\n\u001b[0;32m     81\u001b[0m \u001b[43m        \u001b[49m\u001b[43mroute_url_strategy\u001b[49m\u001b[38;5;241;43m=\u001b[39;49m\u001b[43mroute_url_strategy\u001b[49m\u001b[43m,\u001b[49m\n\u001b[0;32m     82\u001b[0m \u001b[43m    \u001b[49m\u001b[43m)\u001b[49m\n\u001b[0;32m     83\u001b[0m \u001b[43m\u001b[49m\u001b[43m)\u001b[49m\n",
      "File \u001b[1;32m~\\anaconda3\\envs\\main\\Lib\\asyncio\\runners.py:186\u001b[0m, in \u001b[0;36mrun\u001b[1;34m(main, debug)\u001b[0m\n\u001b[0;32m    161\u001b[0m \u001b[38;5;250m\u001b[39m\u001b[38;5;124;03m\"\"\"Execute the coroutine and return the result.\u001b[39;00m\n\u001b[0;32m    162\u001b[0m \n\u001b[0;32m    163\u001b[0m \u001b[38;5;124;03mThis function runs the passed coroutine, taking care of\u001b[39;00m\n\u001b[1;32m   (...)\u001b[0m\n\u001b[0;32m    182\u001b[0m \u001b[38;5;124;03m    asyncio.run(main())\u001b[39;00m\n\u001b[0;32m    183\u001b[0m \u001b[38;5;124;03m\"\"\"\u001b[39;00m\n\u001b[0;32m    184\u001b[0m \u001b[38;5;28;01mif\u001b[39;00m events\u001b[38;5;241m.\u001b[39m_get_running_loop() \u001b[38;5;129;01mis\u001b[39;00m \u001b[38;5;129;01mnot\u001b[39;00m \u001b[38;5;28;01mNone\u001b[39;00m:\n\u001b[0;32m    185\u001b[0m     \u001b[38;5;66;03m# fail fast with short traceback\u001b[39;00m\n\u001b[1;32m--> 186\u001b[0m     \u001b[38;5;28;01mraise\u001b[39;00m \u001b[38;5;167;01mRuntimeError\u001b[39;00m(\n\u001b[0;32m    187\u001b[0m         \u001b[38;5;124m\"\u001b[39m\u001b[38;5;124masyncio.run() cannot be called from a running event loop\u001b[39m\u001b[38;5;124m\"\u001b[39m)\n\u001b[0;32m    189\u001b[0m \u001b[38;5;28;01mwith\u001b[39;00m Runner(debug\u001b[38;5;241m=\u001b[39mdebug) \u001b[38;5;28;01mas\u001b[39;00m runner:\n\u001b[0;32m    190\u001b[0m     \u001b[38;5;28;01mreturn\u001b[39;00m runner\u001b[38;5;241m.\u001b[39mrun(main)\n",
      "\u001b[1;31mRuntimeError\u001b[0m: asyncio.run() cannot be called from a running event loop"
     ]
    }
   ],
   "source": [
    "def main(page: ft.Page):\n",
    "    global start_station, end_station\n",
    "\n",
    "    # GUI的排版\n",
    "    page.title = \"Remove Outliers GUI\"\n",
    "    page.window_width = 700\n",
    "    page.window_height = 600\n",
    "    page.horizontal_alignment = ft.CrossAxisAlignment.CENTER\n",
    "\n",
    "    data_original = []\n",
    "\n",
    "    # 按鈕的function\n",
    "    def append_click(e):\n",
    "        number = int(number_textfield.value)\n",
    "        data_original.append(number)\n",
    "        list_text.value += str(number) + \"\\n\"\n",
    "        page.update()\n",
    "\n",
    "    def result_click(e):\n",
    "        data, removed_data = remove_outliers(int(remove_textfield.value), data_original)\n",
    "        \n",
    "        original_data_text.value = \"Original Data:\\n\" + str(data_original)\n",
    "        data_text.value = \"Data with Outliers Removed:\\n\" + str(data)\n",
    "        removed_data_text.value = \"Removed Outliers:\\n\" + str(removed_data)\n",
    "        page.update()\n",
    "\n",
    "    # ------建立物件------\n",
    "    \n",
    "    # for number view\n",
    "    remove_textfield = ft.TextField(label=\"Number to remove\", width=300, text_size=18)\n",
    "    number_textfield = ft.TextField(label=\"Input number to list\", width=300, text_size=18)\n",
    "\n",
    "    append_button = ft.ElevatedButton(text=f\"Append the number to list\", width=300, on_click=append_click)\n",
    "    list_text = ft.Text(\"\", size=18)\n",
    "    \n",
    "    # for result view\n",
    "    result_button = ft.ElevatedButton(text=f\"Run the function\", width=300, on_click=result_click)\n",
    "\n",
    "    original_data_text = ft.Text(\"\", size=18)\n",
    "    data_text = ft.Text(\"\", size=18)\n",
    "    removed_data_text = ft.Text(\"\", size=18)\n",
    "\n",
    "    # ------將物件進行排版------\n",
    "    page.add(\n",
    "            remove_textfield,\n",
    "            number_textfield,\n",
    "            append_button,\n",
    "            list_text,\n",
    "            result_button,\n",
    "            original_data_text,\n",
    "            data_text,\n",
    "            removed_data_text\n",
    "            )\n",
    "\n",
    "ft.app(target=main)"
   ]
  },
  {
   "cell_type": "code",
   "execution_count": null,
   "metadata": {},
   "outputs": [],
   "source": []
  }
 ],
 "metadata": {
  "kernelspec": {
   "display_name": "Python 3 (ipykernel)",
   "language": "python",
   "name": "python3"
  },
  "language_info": {
   "codemirror_mode": {
    "name": "ipython",
    "version": 3
   },
   "file_extension": ".py",
   "mimetype": "text/x-python",
   "name": "python",
   "nbconvert_exporter": "python",
   "pygments_lexer": "ipython3",
   "version": "3.11.8"
  }
 },
 "nbformat": 4,
 "nbformat_minor": 4
}
