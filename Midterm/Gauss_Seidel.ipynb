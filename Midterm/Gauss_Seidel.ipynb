{
 "cells": [
  {
   "cell_type": "code",
   "execution_count": 3,
   "id": "dd8ad16b-a47c-4f66-bc3d-77db209e877f",
   "metadata": {},
   "outputs": [
    {
     "name": "stdout",
     "output_type": "stream",
     "text": [
      "The Solution: [ 0.10662537 -0.81122684 -0.26963683  0.17667935]\n"
     ]
    }
   ],
   "source": [
    "import numpy as np\n",
    "\n",
    "def gauss_seidel(matrix, initial_guess, right_hand_side, max_iterations=100, epsilon=0.0001):\n",
    "    n = len(initial_guess)\n",
    "    solution = initial_guess.copy()\n",
    "    \n",
    "    for k in range(max_iterations):\n",
    "        prev_solution = solution.copy()\n",
    "        for i in range(n):\n",
    "            summation = np.dot(matrix[i, :i], solution[:i]) + np.dot(matrix[i, i+1:], prev_solution[i+1:])\n",
    "            solution[i] = (right_hand_side[i] - summation) / matrix[i, i]\n",
    "        if np.linalg.norm(solution - prev_solution) < epsilon:\n",
    "            break\n",
    "    \n",
    "    return solution\n",
    "\n",
    "# Define the matrix\n",
    "a = np.array([[12, -2, 4, 1], [4, -8, 1, 2], [3, -2, 12, -4], [0, 6, -8, 21]])\n",
    "\n",
    "# Define the initial guess\n",
    "x = np.zeros(a.shape[0])\n",
    "\n",
    "# Define the right-hand side vector\n",
    "y = np.array([2, 7, -2, 1])\n",
    "\n",
    "# Solve the system using Gauss-Seidel method\n",
    "answer = gauss_seidel(a, x, y, max_iterations=100, epsilon=0.0001)\n",
    "\n",
    "print(\"The Solution:\", answer)\n"
   ]
  }
 ],
 "metadata": {
  "kernelspec": {
   "display_name": "Python 3 (ipykernel)",
   "language": "python",
   "name": "python3"
  },
  "language_info": {
   "codemirror_mode": {
    "name": "ipython",
    "version": 3
   },
   "file_extension": ".py",
   "mimetype": "text/x-python",
   "name": "python",
   "nbconvert_exporter": "python",
   "pygments_lexer": "ipython3",
   "version": "3.11.8"
  }
 },
 "nbformat": 4,
 "nbformat_minor": 5
}
