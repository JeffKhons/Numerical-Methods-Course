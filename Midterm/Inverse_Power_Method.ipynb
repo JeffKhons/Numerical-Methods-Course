{
 "cells": [
  {
   "cell_type": "code",
   "execution_count": 7,
   "id": "05b8941d-5b22-4bb8-b55a-9f5e84308cc2",
   "metadata": {},
   "outputs": [
    {
     "name": "stdout",
     "output_type": "stream",
     "text": [
      "The Minimum Eigenvalue: 20.08696835247542\n",
      "Eigenvector: [0.46365993 0.47055087 0.50680481 0.55385036]\n"
     ]
    }
   ],
   "source": [
    "import numpy as np\n",
    "\n",
    "def power_method(matrix, initial_vector, iterations=1000, tolerance=1e-6):\n",
    "    \"\"\"\n",
    "    Power method to find the largest eigenvalue and eigenvector of a square matrix.\n",
    "    \n",
    "    Parameters:\n",
    "        matrix (numpy.ndarray): The input square matrix.\n",
    "        initial_vector (numpy.ndarray): The initial guess for the eigenvector.\n",
    "        iterations (int): Maximum number of iterations (default is 1000).\n",
    "        tolerance (float): Tolerance for convergence (default is 1e-6).\n",
    "        \n",
    "    Returns:\n",
    "        eigenvalue (float): The largest eigenvalue.\n",
    "        eigenvector (numpy.ndarray): The associated eigenvector.\n",
    "    \"\"\"\n",
    "    # Normalize the initial vector\n",
    "    initial_vector = initial_vector / np.linalg.norm(initial_vector)\n",
    "    \n",
    "    # Perform power iterations\n",
    "    for _ in range(iterations):\n",
    "        # Multiply matrix with the current eigenvector\n",
    "        new_vector = np.dot(matrix, initial_vector)\n",
    "        \n",
    "        # Calculate the eigenvalue\n",
    "        eigenvalue = np.dot(new_vector, initial_vector)\n",
    "        \n",
    "        # Normalize the new vector\n",
    "        new_vector = new_vector / np.linalg.norm(new_vector)\n",
    "        \n",
    "        # Check for convergence\n",
    "        if np.linalg.norm(new_vector - initial_vector) < tolerance:\n",
    "            break\n",
    "        \n",
    "        # Update the initial vector\n",
    "        initial_vector = new_vector\n",
    "    \n",
    "    return eigenvalue, new_vector\n",
    "\n",
    "# Define the matrix\n",
    "a = np.array([[10, 2, 3, 4], [2, 9, 3, 5], [3, 3, 8, 6], [4, 5, 6, 7]])\n",
    "\n",
    "a_inverse = a\n",
    "\n",
    "# Define the initial vector\n",
    "x = np.array([1, 1, 1, 1])\n",
    "\n",
    "# Find the min eigenvalue and eigenvector using the power method\n",
    "Eigenvalue, Eigenvector = power_method(a_inverse, x)\n",
    "\n",
    "print(\"The Minimum Eigenvalue:\", Eigenvalue)\n",
    "print(\"Eigenvector:\", Eigenvector)\n"
   ]
  },
  {
   "cell_type": "code",
   "execution_count": null,
   "id": "e192627a-cb05-4efb-a52a-750fdf096477",
   "metadata": {},
   "outputs": [],
   "source": []
  }
 ],
 "metadata": {
  "kernelspec": {
   "display_name": "Python 3 (ipykernel)",
   "language": "python",
   "name": "python3"
  },
  "language_info": {
   "codemirror_mode": {
    "name": "ipython",
    "version": 3
   },
   "file_extension": ".py",
   "mimetype": "text/x-python",
   "name": "python",
   "nbconvert_exporter": "python",
   "pygments_lexer": "ipython3",
   "version": "3.11.8"
  }
 },
 "nbformat": 4,
 "nbformat_minor": 5
}
