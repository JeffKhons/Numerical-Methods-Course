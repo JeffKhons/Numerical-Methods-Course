{
 "cells": [
  {
   "cell_type": "code",
   "execution_count": 1,
   "id": "39f6d065-cb2c-4770-a8ed-e414eaa60f22",
   "metadata": {},
   "outputs": [
    {
     "ename": "error",
     "evalue": "OpenCV(4.10.0) D:\\a\\opencv-python\\opencv-python\\opencv\\modules\\imgproc\\src\\color.cpp:196: error: (-215:Assertion failed) !_src.empty() in function 'cv::cvtColor'\n",
     "output_type": "error",
     "traceback": [
      "\u001b[1;31m---------------------------------------------------------------------------\u001b[0m",
      "\u001b[1;31merror\u001b[0m                                     Traceback (most recent call last)",
      "Cell \u001b[1;32mIn[1], line 7\u001b[0m\n\u001b[0;32m      5\u001b[0m \u001b[38;5;66;03m# Step 1: Load the image\u001b[39;00m\n\u001b[0;32m      6\u001b[0m img \u001b[38;5;241m=\u001b[39m cv2\u001b[38;5;241m.\u001b[39mimread(\u001b[38;5;124m'\u001b[39m\u001b[38;5;124mhidden object.jpg\u001b[39m\u001b[38;5;124m'\u001b[39m)\n\u001b[1;32m----> 7\u001b[0m gray_img \u001b[38;5;241m=\u001b[39m \u001b[43mcv2\u001b[49m\u001b[38;5;241;43m.\u001b[39;49m\u001b[43mcvtColor\u001b[49m\u001b[43m(\u001b[49m\u001b[43mimg\u001b[49m\u001b[43m,\u001b[49m\u001b[43m \u001b[49m\u001b[43mcv2\u001b[49m\u001b[38;5;241;43m.\u001b[39;49m\u001b[43mCOLOR_BGR2GRAY\u001b[49m\u001b[43m)\u001b[49m  \u001b[38;5;66;03m# Convert to grayscale\u001b[39;00m\n\u001b[0;32m      9\u001b[0m \u001b[38;5;66;03m# Step 2: Compute global mean (mG) and global standard deviation (sG)\u001b[39;00m\n\u001b[0;32m     10\u001b[0m mG \u001b[38;5;241m=\u001b[39m np\u001b[38;5;241m.\u001b[39mmean(gray_img)\n",
      "\u001b[1;31merror\u001b[0m: OpenCV(4.10.0) D:\\a\\opencv-python\\opencv-python\\opencv\\modules\\imgproc\\src\\color.cpp:196: error: (-215:Assertion failed) !_src.empty() in function 'cv::cvtColor'\n"
     ]
    }
   ],
   "source": []
  },
  {
   "cell_type": "code",
   "execution_count": null,
   "id": "671d878e-42d9-4f87-b0ee-d1d3aa4781ef",
   "metadata": {},
   "outputs": [],
   "source": [
    "pip install numpy opencv-python matplotlib\n",
    "import cv2\n",
    "import numpy as np\n",
    "import matplotlib.pyplot as plt\n",
    "\n",
    "# Step 1: Load the image\n",
    "img = cv2.imread('hidden object.jpg')\n",
    "gray_img = cv2.cvtColor(img, cv2.COLOR_BGR2GRAY)  # Convert to grayscale\n",
    "\n",
    "# Step 2: Compute global mean (mG) and global standard deviation (sG)\n",
    "mG = np.mean(gray_img)\n",
    "sG = np.std(gray_img)\n",
    "\n",
    "# Step 3: Define enhancement parameters\n",
    "C = 22.8  # Enhancement constant\n",
    "k0 = 0    # Lower bound for local mean\n",
    "k1 = 0.1  # Upper bound for local mean\n",
    "k2 = 0    # Lower bound for local standard deviation\n",
    "k3 = 0.1  # Upper bound for local standard deviation\n",
    "\n",
    "# Step 4: Set the size of the local window (e.g., 5x5 window)\n",
    "window_size = 5\n",
    "half_window = window_size // 2\n",
    "\n",
    "# Step 5: Initialize the output image\n",
    "enhanced_img = np.copy(gray_img)\n",
    "\n",
    "# Step 6: Loop through each pixel in the image\n",
    "rows, cols = gray_img.shape\n",
    "for i in range(half_window, rows - half_window):\n",
    "    for j in range(half_window, cols - half_window):\n",
    "        # Extract the local window around the current pixel\n",
    "        local_window = gray_img[i-half_window:i+half_window+1, j-half_window:j+half_window+1]\n",
    "        \n",
    "        # Compute local mean and standard deviation\n",
    "        local_mean = np.mean(local_window)\n",
    "        local_std = np.std(local_window)\n",
    "        \n",
    "        # Enhancement condition based on local statistics\n",
    "        if (local_mean >= k0 * mG) and (local_mean <= k1 * mG) and (local_std <= k3 * sG) and (local_std >= k2 * sG):\n",
    "            # Enhance the pixel\n",
    "            enhanced_img[i, j] = np.clip(C * gray_img[i, j], 0, 255)  # Prevent overflow\n",
    "\n",
    "# Step 7: Display the original and enhanced images side by side\n",
    "plt.figure(figsize=(10, 5))\n",
    "plt.subplot(1, 2, 1)\n",
    "plt.imshow(gray_img, cmap='gray')\n",
    "plt.title('Original Grayscale Image')\n",
    "plt.axis('off')\n",
    "\n",
    "plt.subplot(1, 2, 2)\n",
    "plt.imshow(enhanced_img, cmap='gray')\n",
    "plt.title('Enhanced Image using Local Statistics')\n",
    "plt.axis('off')\n",
    "\n",
    "plt.tight_layout()\n",
    "plt.show()\n"
   ]
  }
 ],
 "metadata": {
  "kernelspec": {
   "display_name": "Python 3 (ipykernel)",
   "language": "python",
   "name": "python3"
  },
  "language_info": {
   "codemirror_mode": {
    "name": "ipython",
    "version": 3
   },
   "file_extension": ".py",
   "mimetype": "text/x-python",
   "name": "python",
   "nbconvert_exporter": "python",
   "pygments_lexer": "ipython3",
   "version": "3.11.4"
  }
 },
 "nbformat": 4,
 "nbformat_minor": 5
}
